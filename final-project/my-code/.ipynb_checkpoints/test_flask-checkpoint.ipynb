{
 "cells": [
  {
   "cell_type": "code",
   "execution_count": 1,
   "metadata": {},
   "outputs": [],
   "source": [
    "from pandas import DataFrame, read_json\n",
    "import pandas as pd\n",
    "import numpy as np\n",
    "import re\n",
    "import time\n",
    "from datetime import datetime\n",
    "import csv\n",
    "import os\n",
    "\n",
    "import pandas_profiling\n",
    "\n",
    "%matplotlib inline\n",
    "import seaborn as sns\n",
    "import matplotlib.pyplot as plt"
   ]
  },
  {
   "cell_type": "code",
   "execution_count": 7,
   "metadata": {},
   "outputs": [],
   "source": [
    "insta_ml = pd.read_json('BACKUP/insta_ML_EMOJI_SENTIMENT-BACKUP.json')"
   ]
  },
  {
   "cell_type": "code",
   "execution_count": 28,
   "metadata": {},
   "outputs": [
    {
     "data": {
      "text/plain": [
       "code_jour_semaine                       6\n",
       "publication_height                   1080\n",
       "publication_is_video                False\n",
       "hashtag_list_count                      8\n",
       "publication_word_list_count             5\n",
       "emoji_count                             0\n",
       "edi_lib                                 1\n",
       "publication_polarity                    0\n",
       "publication_subjectivity                0\n",
       "page_nb_followers                    1510\n",
       "hour                                    9\n",
       "publication_type               GraphImage\n",
       "publication_liked_count               100\n",
       "Name: 2363, dtype: object"
      ]
     },
     "execution_count": 28,
     "metadata": {},
     "output_type": "execute_result"
    }
   ],
   "source": [
    "insta_ml[['code_jour_semaine', 'publication_height', 'publication_is_video',\n",
    "       'hashtag_list_count', 'publication_word_list_count', 'emoji_count',\n",
    "       'edi_lib', 'publication_polarity', 'publication_subjectivity',\n",
    "       'page_nb_followers', 'hour', 'publication_type','publication_liked_count']].iloc[2363]"
   ]
  },
  {
   "cell_type": "code",
   "execution_count": 29,
   "metadata": {},
   "outputs": [
    {
     "data": {
      "text/plain": [
       "'Partir en livre, c’est parti! #bookinbar #book #bookshop #partirenlivre #aixenprovence #aixmaville #libri #librairie'"
      ]
     },
     "execution_count": 29,
     "metadata": {},
     "output_type": "execute_result"
    }
   ],
   "source": [
    "insta_ml['text_publication'].iloc[2363]"
   ]
  },
  {
   "cell_type": "code",
   "execution_count": 43,
   "metadata": {},
   "outputs": [],
   "source": [
    "insta_list_annee=pd.read_csv('BDD EDITEURS_LIBRAIRIES-FIN_AOUT_2019 - LISTE INS PAR ANNEE.csv')\n",
    "insta_list_annee['ACTEUR']=insta_list_annee['ACTEUR'].map(lambda act : re.sub('edITEUR','EDITEUR',act))\n",
    "insta_list_annee.sort_values(\"NOM ACTEUR\", inplace = True)"
   ]
  },
  {
   "cell_type": "code",
   "execution_count": 44,
   "metadata": {},
   "outputs": [
    {
     "data": {
      "text/html": [
       "<div>\n",
       "<style scoped>\n",
       "    .dataframe tbody tr th:only-of-type {\n",
       "        vertical-align: middle;\n",
       "    }\n",
       "\n",
       "    .dataframe tbody tr th {\n",
       "        vertical-align: top;\n",
       "    }\n",
       "\n",
       "    .dataframe thead th {\n",
       "        text-align: right;\n",
       "    }\n",
       "</style>\n",
       "<table border=\"1\" class=\"dataframe\">\n",
       "  <thead>\n",
       "    <tr style=\"text-align: right;\">\n",
       "      <th></th>\n",
       "      <th>url_ressoc</th>\n",
       "      <th>typers_ID</th>\n",
       "      <th>TYPE_RS</th>\n",
       "      <th>CATG_RS</th>\n",
       "      <th>editeur_ID</th>\n",
       "      <th>url_rs_ID</th>\n",
       "      <th>NOM ACTEUR</th>\n",
       "      <th>ACTEUR</th>\n",
       "      <th>ANNEE</th>\n",
       "    </tr>\n",
       "  </thead>\n",
       "  <tbody>\n",
       "    <tr>\n",
       "      <th>1871</th>\n",
       "      <td>editions1sur1/</td>\n",
       "      <td>4</td>\n",
       "      <td>instagram</td>\n",
       "      <td>PHOTO</td>\n",
       "      <td>2349</td>\n",
       "      <td>editions1sur1</td>\n",
       "      <td>1 SUR 1</td>\n",
       "      <td>EDITEUR</td>\n",
       "      <td>2019</td>\n",
       "    </tr>\n",
       "    <tr>\n",
       "      <th>841</th>\n",
       "      <td>editions1sur1/</td>\n",
       "      <td>4</td>\n",
       "      <td>instagram</td>\n",
       "      <td>PHOTO</td>\n",
       "      <td>2349</td>\n",
       "      <td>editions1sur1</td>\n",
       "      <td>1 SUR 1</td>\n",
       "      <td>EDITEUR</td>\n",
       "      <td>2018</td>\n",
       "    </tr>\n",
       "    <tr>\n",
       "      <th>1442</th>\n",
       "      <td>editions1018/</td>\n",
       "      <td>4</td>\n",
       "      <td>instagram</td>\n",
       "      <td>PHOTO</td>\n",
       "      <td>2</td>\n",
       "      <td>editions1018</td>\n",
       "      <td>10X18</td>\n",
       "      <td>EDITEUR</td>\n",
       "      <td>2018</td>\n",
       "    </tr>\n",
       "    <tr>\n",
       "      <th>1360</th>\n",
       "      <td>lisez_officiel/</td>\n",
       "      <td>4</td>\n",
       "      <td>instagram</td>\n",
       "      <td>PHOTO</td>\n",
       "      <td>2</td>\n",
       "      <td>lisez_officiel</td>\n",
       "      <td>10X18</td>\n",
       "      <td>EDITEUR</td>\n",
       "      <td>2018</td>\n",
       "    </tr>\n",
       "    <tr>\n",
       "      <th>247</th>\n",
       "      <td>editions1018/</td>\n",
       "      <td>4</td>\n",
       "      <td>instagram</td>\n",
       "      <td>PHOTO</td>\n",
       "      <td>2</td>\n",
       "      <td>editions1018</td>\n",
       "      <td>10X18</td>\n",
       "      <td>EDITEUR</td>\n",
       "      <td>2016</td>\n",
       "    </tr>\n",
       "  </tbody>\n",
       "</table>\n",
       "</div>"
      ],
      "text/plain": [
       "           url_ressoc  typers_ID    TYPE_RS CATG_RS editeur_ID  \\\n",
       "1871   editions1sur1/          4  instagram   PHOTO       2349   \n",
       "841    editions1sur1/          4  instagram   PHOTO       2349   \n",
       "1442    editions1018/          4  instagram   PHOTO          2   \n",
       "1360  lisez_officiel/          4  instagram   PHOTO          2   \n",
       "247     editions1018/          4  instagram   PHOTO          2   \n",
       "\n",
       "           url_rs_ID NOM ACTEUR   ACTEUR  ANNEE  \n",
       "1871   editions1sur1    1 SUR 1  EDITEUR   2019  \n",
       "841    editions1sur1    1 SUR 1  EDITEUR   2018  \n",
       "1442    editions1018      10X18  EDITEUR   2018  \n",
       "1360  lisez_officiel      10X18  EDITEUR   2018  \n",
       "247     editions1018      10X18  EDITEUR   2016  "
      ]
     },
     "execution_count": 44,
     "metadata": {},
     "output_type": "execute_result"
    }
   ],
   "source": [
    "insta_list_annee.head()"
   ]
  },
  {
   "cell_type": "code",
   "execution_count": 47,
   "metadata": {},
   "outputs": [
    {
     "data": {
      "text/html": [
       "<div>\n",
       "<style scoped>\n",
       "    .dataframe tbody tr th:only-of-type {\n",
       "        vertical-align: middle;\n",
       "    }\n",
       "\n",
       "    .dataframe tbody tr th {\n",
       "        vertical-align: top;\n",
       "    }\n",
       "\n",
       "    .dataframe thead th {\n",
       "        text-align: right;\n",
       "    }\n",
       "</style>\n",
       "<table border=\"1\" class=\"dataframe\">\n",
       "  <thead>\n",
       "    <tr style=\"text-align: right;\">\n",
       "      <th></th>\n",
       "      <th>url_rs_ID</th>\n",
       "      <th>ANNEE</th>\n",
       "    </tr>\n",
       "  </thead>\n",
       "  <tbody>\n",
       "    <tr>\n",
       "      <th>1871</th>\n",
       "      <td>editions1sur1</td>\n",
       "      <td>2019</td>\n",
       "    </tr>\n",
       "    <tr>\n",
       "      <th>841</th>\n",
       "      <td>editions1sur1</td>\n",
       "      <td>2018</td>\n",
       "    </tr>\n",
       "    <tr>\n",
       "      <th>1442</th>\n",
       "      <td>editions1018</td>\n",
       "      <td>2018</td>\n",
       "    </tr>\n",
       "    <tr>\n",
       "      <th>1360</th>\n",
       "      <td>lisez_officiel</td>\n",
       "      <td>2018</td>\n",
       "    </tr>\n",
       "    <tr>\n",
       "      <th>247</th>\n",
       "      <td>editions1018</td>\n",
       "      <td>2016</td>\n",
       "    </tr>\n",
       "    <tr>\n",
       "      <th>...</th>\n",
       "      <td>...</td>\n",
       "      <td>...</td>\n",
       "    </tr>\n",
       "    <tr>\n",
       "      <th>2266</th>\n",
       "      <td>zinnia_editions</td>\n",
       "      <td>2019</td>\n",
       "    </tr>\n",
       "    <tr>\n",
       "      <th>1179</th>\n",
       "      <td>zinnia_editions</td>\n",
       "      <td>2018</td>\n",
       "    </tr>\n",
       "    <tr>\n",
       "      <th>1306</th>\n",
       "      <td>editionsdelobservatoire</td>\n",
       "      <td>2018</td>\n",
       "    </tr>\n",
       "    <tr>\n",
       "      <th>552</th>\n",
       "      <td>editionsdelobservatoire</td>\n",
       "      <td>2017</td>\n",
       "    </tr>\n",
       "    <tr>\n",
       "      <th>2413</th>\n",
       "      <td>editionsdelobservatoire</td>\n",
       "      <td>2019</td>\n",
       "    </tr>\n",
       "  </tbody>\n",
       "</table>\n",
       "<p>3109 rows × 2 columns</p>\n",
       "</div>"
      ],
      "text/plain": [
       "                    url_rs_ID  ANNEE\n",
       "1871            editions1sur1   2019\n",
       "841             editions1sur1   2018\n",
       "1442             editions1018   2018\n",
       "1360           lisez_officiel   2018\n",
       "247              editions1018   2016\n",
       "...                       ...    ...\n",
       "2266          zinnia_editions   2019\n",
       "1179          zinnia_editions   2018\n",
       "1306  editionsdelobservatoire   2018\n",
       "552   editionsdelobservatoire   2017\n",
       "2413  editionsdelobservatoire   2019\n",
       "\n",
       "[3109 rows x 2 columns]"
      ]
     },
     "execution_count": 47,
     "metadata": {},
     "output_type": "execute_result"
    }
   ],
   "source": [
    "insta_list_annee[['url_rs_ID','ANNEE']]"
   ]
  },
  {
   "cell_type": "code",
   "execution_count": 49,
   "metadata": {},
   "outputs": [],
   "source": [
    "insta_list_annee.drop_duplicates(['url_rs_ID','ANNEE'],inplace=True)"
   ]
  },
  {
   "cell_type": "code",
   "execution_count": 55,
   "metadata": {},
   "outputs": [
    {
     "data": {
      "text/html": [
       "<div>\n",
       "<style scoped>\n",
       "    .dataframe tbody tr th:only-of-type {\n",
       "        vertical-align: middle;\n",
       "    }\n",
       "\n",
       "    .dataframe tbody tr th {\n",
       "        vertical-align: top;\n",
       "    }\n",
       "\n",
       "    .dataframe thead th {\n",
       "        text-align: right;\n",
       "    }\n",
       "</style>\n",
       "<table border=\"1\" class=\"dataframe\">\n",
       "  <thead>\n",
       "    <tr style=\"text-align: right;\">\n",
       "      <th></th>\n",
       "      <th>url_ressoc</th>\n",
       "      <th>typers_ID</th>\n",
       "      <th>TYPE_RS</th>\n",
       "      <th>CATG_RS</th>\n",
       "      <th>editeur_ID</th>\n",
       "      <th>url_rs_ID</th>\n",
       "      <th>NOM ACTEUR</th>\n",
       "      <th>ANNEE</th>\n",
       "    </tr>\n",
       "    <tr>\n",
       "      <th>ACTEUR</th>\n",
       "      <th></th>\n",
       "      <th></th>\n",
       "      <th></th>\n",
       "      <th></th>\n",
       "      <th></th>\n",
       "      <th></th>\n",
       "      <th></th>\n",
       "      <th></th>\n",
       "    </tr>\n",
       "  </thead>\n",
       "  <tbody>\n",
       "    <tr>\n",
       "      <th>EDITEUR</th>\n",
       "      <td>1865</td>\n",
       "      <td>1865</td>\n",
       "      <td>1865</td>\n",
       "      <td>1865</td>\n",
       "      <td>1864</td>\n",
       "      <td>1865</td>\n",
       "      <td>1865</td>\n",
       "      <td>1865</td>\n",
       "    </tr>\n",
       "    <tr>\n",
       "      <th>LIBRAIRIE</th>\n",
       "      <td>1055</td>\n",
       "      <td>1055</td>\n",
       "      <td>1055</td>\n",
       "      <td>1055</td>\n",
       "      <td>1054</td>\n",
       "      <td>1055</td>\n",
       "      <td>1055</td>\n",
       "      <td>1055</td>\n",
       "    </tr>\n",
       "  </tbody>\n",
       "</table>\n",
       "</div>"
      ],
      "text/plain": [
       "           url_ressoc  typers_ID  TYPE_RS  CATG_RS  editeur_ID  url_rs_ID  \\\n",
       "ACTEUR                                                                      \n",
       "EDITEUR          1865       1865     1865     1865        1864       1865   \n",
       "LIBRAIRIE        1055       1055     1055     1055        1054       1055   \n",
       "\n",
       "           NOM ACTEUR  ANNEE  \n",
       "ACTEUR                        \n",
       "EDITEUR          1865   1865  \n",
       "LIBRAIRIE        1055   1055  "
      ]
     },
     "execution_count": 55,
     "metadata": {},
     "output_type": "execute_result"
    }
   ],
   "source": [
    "insta_list_annee.groupby('ACTEUR').count()"
   ]
  },
  {
   "cell_type": "code",
   "execution_count": 63,
   "metadata": {},
   "outputs": [],
   "source": [
    "insta_acteur_annee = insta_list_annee.groupby(['ANNEE','ACTEUR']).count().reset_index()"
   ]
  },
  {
   "cell_type": "code",
   "execution_count": 72,
   "metadata": {},
   "outputs": [
    {
     "data": {
      "text/html": [
       "<div>\n",
       "<style scoped>\n",
       "    .dataframe tbody tr th:only-of-type {\n",
       "        vertical-align: middle;\n",
       "    }\n",
       "\n",
       "    .dataframe tbody tr th {\n",
       "        vertical-align: top;\n",
       "    }\n",
       "\n",
       "    .dataframe thead th {\n",
       "        text-align: right;\n",
       "    }\n",
       "</style>\n",
       "<table border=\"1\" class=\"dataframe\">\n",
       "  <thead>\n",
       "    <tr style=\"text-align: right;\">\n",
       "      <th></th>\n",
       "      <th>ANNEE</th>\n",
       "      <th>ACTEUR</th>\n",
       "      <th>url_rs_ID</th>\n",
       "    </tr>\n",
       "  </thead>\n",
       "  <tbody>\n",
       "    <tr>\n",
       "      <th>0</th>\n",
       "      <td>2015</td>\n",
       "      <td>EDITEUR</td>\n",
       "      <td>35</td>\n",
       "    </tr>\n",
       "    <tr>\n",
       "      <th>1</th>\n",
       "      <td>2016</td>\n",
       "      <td>EDITEUR</td>\n",
       "      <td>219</td>\n",
       "    </tr>\n",
       "    <tr>\n",
       "      <th>2</th>\n",
       "      <td>2017</td>\n",
       "      <td>EDITEUR</td>\n",
       "      <td>387</td>\n",
       "    </tr>\n",
       "    <tr>\n",
       "      <th>3</th>\n",
       "      <td>2017</td>\n",
       "      <td>LIBRAIRIE</td>\n",
       "      <td>160</td>\n",
       "    </tr>\n",
       "    <tr>\n",
       "      <th>4</th>\n",
       "      <td>2018</td>\n",
       "      <td>EDITEUR</td>\n",
       "      <td>578</td>\n",
       "    </tr>\n",
       "    <tr>\n",
       "      <th>5</th>\n",
       "      <td>2018</td>\n",
       "      <td>LIBRAIRIE</td>\n",
       "      <td>379</td>\n",
       "    </tr>\n",
       "    <tr>\n",
       "      <th>6</th>\n",
       "      <td>2019</td>\n",
       "      <td>EDITEUR</td>\n",
       "      <td>646</td>\n",
       "    </tr>\n",
       "    <tr>\n",
       "      <th>7</th>\n",
       "      <td>2019</td>\n",
       "      <td>LIBRAIRIE</td>\n",
       "      <td>516</td>\n",
       "    </tr>\n",
       "  </tbody>\n",
       "</table>\n",
       "</div>"
      ],
      "text/plain": [
       "   ANNEE     ACTEUR  url_rs_ID\n",
       "0   2015    EDITEUR         35\n",
       "1   2016    EDITEUR        219\n",
       "2   2017    EDITEUR        387\n",
       "3   2017  LIBRAIRIE        160\n",
       "4   2018    EDITEUR        578\n",
       "5   2018  LIBRAIRIE        379\n",
       "6   2019    EDITEUR        646\n",
       "7   2019  LIBRAIRIE        516"
      ]
     },
     "execution_count": 72,
     "metadata": {},
     "output_type": "execute_result"
    }
   ],
   "source": [
    "insta_acteur_annee"
   ]
  },
  {
   "cell_type": "code",
   "execution_count": 66,
   "metadata": {},
   "outputs": [],
   "source": [
    "insta_acteur_annee =insta_acteur_annee[['ANNEE','ACTEUR','url_rs_ID']]"
   ]
  },
  {
   "cell_type": "code",
   "execution_count": null,
   "metadata": {},
   "outputs": [],
   "source": [
    "plt.figure(figsize=(6, 8))\n",
    "splot = sns.barplot(data=df, x = 'sex', y = 'total_bill', ci = None)\n",
    "for p in splot.patches:\n",
    "splot.annotate(format(p.get_height(), '.2f'), (p.get_x() + p.get_width() / 2., p.get_height()), \n",
    "               ha = 'center', va = 'center', xytext = (0, 10), textcoords = 'offset points')"
   ]
  },
  {
   "cell_type": "code",
   "execution_count": 119,
   "metadata": {},
   "outputs": [
    {
     "data": {
      "image/png": "[encoded data removed]",
      "text/plain": [
       "<Figure size 1080x648 with 1 Axes>"
      ]
     },
     "metadata": {},
     "output_type": "display_data"
    }
   ],
   "source": [
    "# Plotting a bar graph of the number of hashtag in a publication\n",
    "sns.set(style=\"dark\", context=\"talk\") #ValueError: context must be in paper, notebook, talk, poster\n",
    "\n",
    "plt.figure(figsize=(15,9))\n",
    "\n",
    "clrs = ['#e1306c' , '#ffdc80' ]\n",
    "\n",
    "instaplot = sns.barplot(x='ANNEE',y='url_rs_ID', hue='ACTEUR',data=insta_acteur_annee,palette=clrs)\n",
    "\n",
    "for elem in instaplot.patches:\n",
    "    instaplot.annotate(format(elem.get_height(), '.0f'), (elem.get_x() + elem.get_width() / 2., elem.get_height()), \n",
    "        ha = 'center', va = 'center', xytext = (0, 10), textcoords = 'offset points')\n",
    "    \n",
    "plt.title('Nombre de comptes instagram par année par acteur')\n",
    "plt.ylabel('Nombre de comptes', fontsize=13)\n",
    "plt.xlabel('Année', fontsize=13)\n",
    "\n",
    "plt.show()"
   ]
  },
  {
   "cell_type": "code",
   "execution_count": null,
   "metadata": {},
   "outputs": [],
   "source": []
  }
 ],
 "metadata": {
  "kernelspec": {
   "display_name": "Python 3",
   "language": "python",
   "name": "python3"
  },
  "language_info": {
   "codemirror_mode": {
    "name": "ipython",
    "version": 3
   },
   "file_extension": ".py",
   "mimetype": "text/x-python",
   "name": "python",
   "nbconvert_exporter": "python",
   "pygments_lexer": "ipython3",
   "version": "3.7.5"
  }
 },
 "nbformat": 4,
 "nbformat_minor": 2
}
